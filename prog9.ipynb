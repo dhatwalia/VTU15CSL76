{
 "cells": [
  {
   "cell_type": "code",
   "execution_count": null,
   "metadata": {},
   "outputs": [],
   "source": [
    "#load the iris dataset as an example\n",
    "from sklearn.datasets import load_iris\n",
    "import numpy as np\n",
    "iris=load_iris()\n",
    "print(iris)"
   ]
  },
  {
   "cell_type": "code",
   "execution_count": null,
   "metadata": {},
   "outputs": [],
   "source": [
    "print(iris.DESCR)"
   ]
  },
  {
   "cell_type": "code",
   "execution_count": null,
   "metadata": {},
   "outputs": [],
   "source": [
    "#store the feature matrix(X) and response vector (y)\n",
    "X=iris.data\n",
    "y=iris.target\n",
    "\n",
    "print(\"X \",X[:5])\n",
    "print(\"y \",y[:5])"
   ]
  },
  {
   "cell_type": "code",
   "execution_count": 47,
   "metadata": {},
   "outputs": [
    {
     "name": "stdout",
     "output_type": "stream",
     "text": [
      "(150, 4)\n",
      "90\n",
      "60\n"
     ]
    }
   ],
   "source": [
    "#splitting X and y into training and testing sets\n",
    "from sklearn.model_selection import train_test_split\n",
    "X_train, X_test, y_train, y_test = train_test_split(X,y,test_size=0.4,random_state=1)\n",
    "\n",
    "print(iris.data.shape)\n",
    "print(len(X_train))\n",
    "print(len(y_test))"
   ]
  },
  {
   "cell_type": "code",
   "execution_count": 10,
   "metadata": {},
   "outputs": [
    {
     "data": {
      "text/plain": [
       "KNeighborsClassifier(algorithm='auto', leaf_size=30, metric='minkowski',\n",
       "           metric_params=None, n_jobs=1, n_neighbors=3, p=2,\n",
       "           weights='uniform')"
      ]
     },
     "execution_count": 10,
     "metadata": {},
     "output_type": "execute_result"
    }
   ],
   "source": [
    "#training the model on training set\n",
    "from sklearn.neighbors import KNeighborsClassifier\n",
    "knn = KNeighborsClassifier(n_neighbors=3) #should be odd, usually equal to no. of class labels\n",
    "knn.fit(X_train,y_train)"
   ]
  },
  {
   "cell_type": "code",
   "execution_count": 11,
   "metadata": {},
   "outputs": [
    {
     "name": "stdout",
     "output_type": "stream",
     "text": [
      "[0 1 1 0 2 1 2 0 0 2 1 0 2 1 1 0 1 1 0 0 1 1 1 0 2 1 0 0 1 2 1 2 1 2 2 0 1\n",
      " 0 1 2 2 0 1 2 1 2 0 0 0 1 0 0 2 2 2 2 2 1 2 1]\n"
     ]
    }
   ],
   "source": [
    "#making predictions on the testing set\n",
    "y_pred=knn.predict(X_test)\n",
    "print(y_pred)"
   ]
  },
  {
   "cell_type": "code",
   "execution_count": 13,
   "metadata": {},
   "outputs": [
    {
     "name": "stdout",
     "output_type": "stream",
     "text": [
      "Accuracy =  0.9833333333333333\n"
     ]
    }
   ],
   "source": [
    "#comparing actual response values (y_test) with predicted response values (y_pred)\n",
    "from sklearn import metrics\n",
    "print(\"Accuracy = \",metrics.accuracy_score(y_test,y_pred))"
   ]
  },
  {
   "cell_type": "code",
   "execution_count": 46,
   "metadata": {},
   "outputs": [
    {
     "name": "stdout",
     "output_type": "stream",
     "text": [
      "\tPredicted \t\tActual \t\tAnswer\n",
      "0 : setosa \t\t setosa \t\t\tCorrect\n",
      "1 : versicolor \t\t versicolor \t\t\tCorrect\n",
      "2 : versicolor \t\t versicolor \t\t\tCorrect\n",
      "3 : setosa \t\t setosa \t\t\tCorrect\n",
      "4 : virginica \t\t virginica \t\t\tCorrect\n",
      "5 : versicolor \t\t versicolor \t\t\tCorrect\n",
      "6 : virginica \t\t virginica \t\t\tCorrect\n",
      "7 : setosa \t\t setosa \t\t\tCorrect\n",
      "8 : setosa \t\t setosa \t\t\tCorrect\n",
      "9 : virginica \t\t virginica \t\t\tCorrect\n",
      "10 : versicolor \t\t versicolor \t\t\tCorrect\n",
      "11 : setosa \t\t setosa \t\t\tCorrect\n",
      "12 : virginica \t\t virginica \t\t\tCorrect\n",
      "13 : versicolor \t\t versicolor \t\t\tCorrect\n",
      "14 : versicolor \t\t versicolor \t\t\tCorrect\n",
      "15 : setosa \t\t setosa \t\t\tCorrect\n",
      "16 : versicolor \t\t versicolor \t\t\tCorrect\n",
      "17 : versicolor \t\t versicolor \t\t\tCorrect\n",
      "18 : setosa \t\t setosa \t\t\tCorrect\n",
      "19 : setosa \t\t setosa \t\t\tCorrect\n",
      "20 : versicolor \t\t versicolor \t\t\tCorrect\n",
      "21 : versicolor \t\t versicolor \t\t\tCorrect\n",
      "22 : versicolor \t\t versicolor \t\t\tCorrect\n",
      "23 : setosa \t\t setosa \t\t\tCorrect\n",
      "24 : virginica \t\t virginica \t\t\tCorrect\n",
      "25 : versicolor \t\t versicolor \t\t\tCorrect\n",
      "26 : setosa \t\t setosa \t\t\tCorrect\n",
      "27 : setosa \t\t setosa \t\t\tCorrect\n",
      "28 : versicolor \t\t versicolor \t\t\tCorrect\n",
      "29 : virginica \t\t virginica \t\t\tCorrect\n",
      "30 : versicolor \t\t versicolor \t\t\tCorrect\n",
      "31 : virginica \t\t virginica \t\t\tCorrect\n",
      "32 : versicolor \t\t versicolor \t\t\tCorrect\n",
      "33 : virginica \t\t virginica \t\t\tCorrect\n",
      "34 : virginica \t\t virginica \t\t\tCorrect\n",
      "35 : setosa \t\t setosa \t\t\tCorrect\n",
      "36 : versicolor \t\t versicolor \t\t\tCorrect\n",
      "37 : setosa \t\t setosa \t\t\tCorrect\n",
      "38 : versicolor \t\t versicolor \t\t\tCorrect\n",
      "39 : virginica \t\t virginica \t\t\tCorrect\n",
      "40 : virginica \t\t virginica \t\t\tCorrect\n",
      "41 : setosa \t\t setosa \t\t\tCorrect\n",
      "42 : versicolor \t\t virginica \t\t\tIncorrect!!!\n",
      "43 : virginica \t\t virginica \t\t\tCorrect\n",
      "44 : versicolor \t\t versicolor \t\t\tCorrect\n",
      "45 : virginica \t\t virginica \t\t\tCorrect\n",
      "46 : setosa \t\t setosa \t\t\tCorrect\n",
      "47 : setosa \t\t setosa \t\t\tCorrect\n",
      "48 : setosa \t\t setosa \t\t\tCorrect\n",
      "49 : versicolor \t\t versicolor \t\t\tCorrect\n",
      "50 : setosa \t\t setosa \t\t\tCorrect\n",
      "51 : setosa \t\t setosa \t\t\tCorrect\n",
      "52 : virginica \t\t virginica \t\t\tCorrect\n",
      "53 : virginica \t\t virginica \t\t\tCorrect\n",
      "54 : virginica \t\t virginica \t\t\tCorrect\n",
      "55 : virginica \t\t virginica \t\t\tCorrect\n",
      "56 : virginica \t\t virginica \t\t\tCorrect\n",
      "57 : versicolor \t\t versicolor \t\t\tCorrect\n",
      "58 : virginica \t\t virginica \t\t\tCorrect\n",
      "59 : versicolor \t\t versicolor \t\t\tCorrect\n"
     ]
    }
   ],
   "source": [
    "#printing output of entire test_dataset\n",
    "preds=knn.predict(X_test)\n",
    "pred_species=[iris.target_names[p] for p in preds]\n",
    "pred_species1=[iris.target_names[p] for p in y_test]\n",
    "\n",
    "print(\"\\tPredicted\",\"\\t\\tActual\",\"\\t\\tAnswer\")\n",
    "for i in range(0,len(pred_species)):\n",
    "    print(i,\":\",pred_species[i],\"\\t\\t\",pred_species1[i],\"\\t\\t\",end='\\t')    \n",
    "    if(pred_species[i]==pred_species1[i]):\n",
    "        print(\"Correct\")\n",
    "    else:\n",
    "        print(\"Incorrect!!!\")"
   ]
  },
  {
   "cell_type": "code",
   "execution_count": 43,
   "metadata": {},
   "outputs": [
    {
     "name": "stdout",
     "output_type": "stream",
     "text": [
      "[array([6. , 2.2, 5. , 1.5])]\n",
      "['versicolor']\n"
     ]
    }
   ],
   "source": [
    "#checking for sample: wrong prediction\n",
    "sample=[X_test[42]]\n",
    "print(sample)\n",
    "ps=knn.predict(sample)\n",
    "print(iris.target_names[ps])"
   ]
  },
  {
   "cell_type": "code",
   "execution_count": null,
   "metadata": {},
   "outputs": [],
   "source": []
  }
 ],
 "metadata": {
  "kernelspec": {
   "display_name": "Python 3",
   "language": "python",
   "name": "python3"
  },
  "language_info": {
   "codemirror_mode": {
    "name": "ipython",
    "version": 3
   },
   "file_extension": ".py",
   "mimetype": "text/x-python",
   "name": "python",
   "nbconvert_exporter": "python",
   "pygments_lexer": "ipython3",
   "version": "3.6.5"
  }
 },
 "nbformat": 4,
 "nbformat_minor": 2
}
