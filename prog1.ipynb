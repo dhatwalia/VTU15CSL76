{
 "cells": [
  {
   "cell_type": "code",
   "execution_count": 28,
   "metadata": {},
   "outputs": [],
   "source": [
    "import pandas as pd"
   ]
  },
  {
   "cell_type": "code",
   "execution_count": 29,
   "metadata": {
    "scrolled": false
   },
   "outputs": [
    {
     "name": "stdout",
     "output_type": "stream",
     "text": [
      "        0     1       2       3     4       5  6\n",
      "0   sunny  warm  normal  strong  warm    same  1\n",
      "1   sunny  warm    high  strong  warm    same  1\n",
      "2   rainy  cold    high  strong  warm  change  0\n",
      "3   sunny  warm    high  strong  cool  change  1\n",
      "4   sunny  warm  normal  strong  cool    same  1\n",
      "5   sunny  cold  normal  strong  cool    same  1\n",
      "6   sunny  cold  normal    weak  cool  change  0\n",
      "7   rainy  cold    high  strong  cool  change  0\n",
      "8   rainy  cold    high  strong  warm  change  1\n",
      "9   rainy  warm    high  strong  warm    same  1\n",
      "10  rainy  warm  normal  strong  warm  change  0\n",
      "11  sunny  cold    high  strong  cool  change  1\n",
      "12  sunny  cold  normal  strong  cool    same  1\n",
      "13  sunny  warm  normal  strong  cool    same  1\n",
      "14  sunny  warm  normal    weak  cool  change  0\n"
     ]
    }
   ],
   "source": [
    "data=pd.read_csv(\"train1.csv\",header=None)\n",
    "print(data)"
   ]
  },
  {
   "cell_type": "code",
   "execution_count": 30,
   "metadata": {},
   "outputs": [
    {
     "name": "stdout",
     "output_type": "stream",
     "text": [
      "        0     1       2       3     4       5  6\n",
      "3   sunny  warm    high  strong  cool  change  1\n",
      "4   sunny  warm  normal  strong  cool    same  1\n",
      "12  sunny  cold  normal  strong  cool    same  1\n",
      "13  sunny  warm  normal  strong  cool    same  1\n",
      "5   sunny  cold  normal  strong  cool    same  1\n",
      "9   rainy  warm    high  strong  warm    same  1\n",
      "0   sunny  warm  normal  strong  warm    same  1\n",
      "6   sunny  cold  normal    weak  cool  change  0\n"
     ]
    }
   ],
   "source": [
    "train=data.sample(frac=0.5,random_state=None)\n",
    "print(train)"
   ]
  },
  {
   "cell_type": "code",
   "execution_count": 31,
   "metadata": {},
   "outputs": [
    {
     "name": "stdout",
     "output_type": "stream",
     "text": [
      "        0     1       2       3     4       5  6\n",
      "1   sunny  warm    high  strong  warm    same  1\n",
      "2   rainy  cold    high  strong  warm  change  0\n",
      "7   rainy  cold    high  strong  cool  change  0\n",
      "8   rainy  cold    high  strong  warm  change  1\n",
      "10  rainy  warm  normal  strong  warm  change  0\n",
      "11  sunny  cold    high  strong  cool  change  1\n",
      "14  sunny  warm  normal    weak  cool  change  0\n"
     ]
    }
   ],
   "source": [
    "test=data.drop(train.index)\n",
    "print(test)"
   ]
  },
  {
   "cell_type": "code",
   "execution_count": 32,
   "metadata": {},
   "outputs": [
    {
     "name": "stdout",
     "output_type": "stream",
     "text": [
      "0    -\n",
      "1    -\n",
      "2    -\n",
      "3    -\n",
      "4    -\n",
      "5    -\n",
      "dtype: object\n"
     ]
    }
   ],
   "source": [
    "l=len(train.columns)\n",
    "l=l-1 #because we are not taking the last column\n",
    "h=pd.Series(['-']*l)\n",
    "print(h)"
   ]
  },
  {
   "cell_type": "code",
   "execution_count": 33,
   "metadata": {},
   "outputs": [
    {
     "name": "stdout",
     "output_type": "stream",
     "text": [
      "0     sunny\n",
      "1      warm\n",
      "2      high\n",
      "3    strong\n",
      "4      cool\n",
      "5    change\n",
      "6         1\n",
      "Name: 3, dtype: object\n",
      "0     sunny\n",
      "1      warm\n",
      "2    normal\n",
      "3    strong\n",
      "4      cool\n",
      "5      same\n",
      "6         1\n",
      "Name: 4, dtype: object\n",
      "0     sunny\n",
      "1      cold\n",
      "2    normal\n",
      "3    strong\n",
      "4      cool\n",
      "5      same\n",
      "6         1\n",
      "Name: 12, dtype: object\n",
      "0     sunny\n",
      "1      warm\n",
      "2    normal\n",
      "3    strong\n",
      "4      cool\n",
      "5      same\n",
      "6         1\n",
      "Name: 13, dtype: object\n",
      "0     sunny\n",
      "1      cold\n",
      "2    normal\n",
      "3    strong\n",
      "4      cool\n",
      "5      same\n",
      "6         1\n",
      "Name: 5, dtype: object\n",
      "0     rainy\n",
      "1      warm\n",
      "2      high\n",
      "3    strong\n",
      "4      warm\n",
      "5      same\n",
      "6         1\n",
      "Name: 9, dtype: object\n",
      "0     sunny\n",
      "1      warm\n",
      "2    normal\n",
      "3    strong\n",
      "4      warm\n",
      "5      same\n",
      "6         1\n",
      "Name: 0, dtype: object\n",
      "0     sunny\n",
      "1      cold\n",
      "2    normal\n",
      "3      weak\n",
      "4      cool\n",
      "5    change\n",
      "6         0\n",
      "Name: 6, dtype: object\n",
      "0         ?\n",
      "1         ?\n",
      "2         ?\n",
      "3    strong\n",
      "4         ?\n",
      "5         ?\n",
      "dtype: object\n"
     ]
    }
   ],
   "source": [
    "#r will return rows\n",
    "for (i,r) in train.iterrows():\n",
    "    print(r)\n",
    "    if r.iloc[-1] == 1:\n",
    "        for j in range(l):\n",
    "            if h.iloc[j] == r.iloc[j]:\n",
    "                continue\n",
    "            else:\n",
    "                if (h.iloc[j]=='-'):\n",
    "                    h.iloc[j]=r.iloc[j]\n",
    "                else:\n",
    "                    h.iloc[j]='?'\n",
    "\n",
    "print(h)"
   ]
  },
  {
   "cell_type": "code",
   "execution_count": 34,
   "metadata": {},
   "outputs": [],
   "source": [
    "#to test the data\n",
    "def testh(h,sample):\n",
    "    index=h!='?' #whatever values are not '?' are taken into h\n",
    "    if (h[index]==sample[index]).all(): \n",
    "        return 1\n",
    "    else:\n",
    "        return 0"
   ]
  },
  {
   "cell_type": "code",
   "execution_count": 35,
   "metadata": {},
   "outputs": [],
   "source": [
    "#determines accuracy\n",
    "def ac(testset):\n",
    "    a=0\n",
    "    for (i,r) in testset.iterrows():\n",
    "        t=testh(h,r.iloc[:-1])\n",
    "        if t==r.iloc[-1]:\n",
    "            a=a+1\n",
    "        print(\"\\n Test: \",list(r))\n",
    "        print(\"Predicted: \",t,\"\\tActual: \",r.iloc[-1])\n",
    "        \n",
    "    return (a/len(testset))*100"
   ]
  },
  {
   "cell_type": "code",
   "execution_count": 36,
   "metadata": {},
   "outputs": [
    {
     "name": "stdout",
     "output_type": "stream",
     "text": [
      "\n",
      " Test:  ['sunny', 'warm', 'high', 'strong', 'warm', 'same', 1]\n",
      "Predicted:  1 \tActual:  1\n",
      "\n",
      " Test:  ['rainy', 'cold', 'high', 'strong', 'warm', 'change', 0]\n",
      "Predicted:  1 \tActual:  0\n",
      "\n",
      " Test:  ['rainy', 'cold', 'high', 'strong', 'cool', 'change', 0]\n",
      "Predicted:  1 \tActual:  0\n",
      "\n",
      " Test:  ['rainy', 'cold', 'high', 'strong', 'warm', 'change', 1]\n",
      "Predicted:  1 \tActual:  1\n",
      "\n",
      " Test:  ['rainy', 'warm', 'normal', 'strong', 'warm', 'change', 0]\n",
      "Predicted:  1 \tActual:  0\n",
      "\n",
      " Test:  ['sunny', 'cold', 'high', 'strong', 'cool', 'change', 1]\n",
      "Predicted:  1 \tActual:  1\n",
      "\n",
      " Test:  ['sunny', 'warm', 'normal', 'weak', 'cool', 'change', 0]\n",
      "Predicted:  0 \tActual:  0\n",
      "Accuracy =  57.14285714285714 %\n"
     ]
    }
   ],
   "source": [
    "print(\"Accuracy = \",ac(test),\"%\")"
   ]
  },
  {
   "cell_type": "code",
   "execution_count": null,
   "metadata": {},
   "outputs": [],
   "source": []
  },
  {
   "cell_type": "code",
   "execution_count": null,
   "metadata": {},
   "outputs": [],
   "source": []
  }
 ],
 "metadata": {
  "kernelspec": {
   "display_name": "Python 3",
   "language": "python",
   "name": "python3"
  },
  "language_info": {
   "codemirror_mode": {
    "name": "ipython",
    "version": 3
   },
   "file_extension": ".py",
   "mimetype": "text/x-python",
   "name": "python",
   "nbconvert_exporter": "python",
   "pygments_lexer": "ipython3",
   "version": "3.6.5"
  }
 },
 "nbformat": 4,
 "nbformat_minor": 2
}
