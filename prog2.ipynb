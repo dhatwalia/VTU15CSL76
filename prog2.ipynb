{
 "cells": [
  {
   "cell_type": "code",
   "execution_count": 1,
   "metadata": {},
   "outputs": [],
   "source": [
    "import csv"
   ]
  },
  {
   "cell_type": "code",
   "execution_count": 2,
   "metadata": {},
   "outputs": [
    {
     "data": {
      "text/plain": [
       "[(1, 3), (2, 4), (3, 5)]"
      ]
     },
     "execution_count": 2,
     "metadata": {},
     "output_type": "execute_result"
    }
   ],
   "source": [
    "def more_general(h1,h2):\n",
    "    more_general_parts = []\n",
    "    for x, y in zip(h1,h2):\n",
    "        mg = x ==\"?\" or (x != \"0\" and (x == y or y ==\"0\"))\n",
    "        more_general_parts.append(mg)\n",
    "    return all(more_general_parts)\n",
    "    \n",
    "l1 = [1,2,3]\n",
    "l2 = [3,4,5]\n",
    "\n",
    "list(zip(l1,l2))"
   ]
  },
  {
   "cell_type": "code",
   "execution_count": 3,
   "metadata": {},
   "outputs": [],
   "source": [
    "def fulfills(example, hypothesis):\n",
    "    return more_general(hypothesis, example)\n",
    "\n",
    "def min_generalizations(h,x):\n",
    "    h_new = list(h)\n",
    "    for i in range(len(h)):\n",
    "        if not fulfills(x[i:i+1],h[i:i+1]):\n",
    "            h_new[i] = \"?\" if h[i] != '0' else x[i]\n",
    "    return [tuple(h_new)]"
   ]
  },
  {
   "cell_type": "code",
   "execution_count": 4,
   "metadata": {},
   "outputs": [
    {
     "data": {
      "text/plain": [
       "[('rainy', 'windy', '?')]"
      ]
     },
     "execution_count": 4,
     "metadata": {},
     "output_type": "execute_result"
    }
   ],
   "source": [
    "min_generalizations(h=('0','0','sunny'),x=('rainy','windy','cloudy'))"
   ]
  },
  {
   "cell_type": "code",
   "execution_count": 5,
   "metadata": {},
   "outputs": [],
   "source": [
    "def min_specializations(h,domains,x):\n",
    "    results = []\n",
    "    for i in range(len(h)):\n",
    "        if h[i] == \"?\":\n",
    "            for val in domains[i]:\n",
    "                if x[i] != val:\n",
    "                    h_new =h[:i] + (val,) + h[i+1:]\n",
    "                    results.append(h_new)\n",
    "        elif h[i] != \"0\":\n",
    "            h_new =h[:i] + ('0',) + h[i+1:]\n",
    "            results.append(h_new)\n",
    "    return results\n"
   ]
  },
  {
   "cell_type": "code",
   "execution_count": 6,
   "metadata": {},
   "outputs": [
    {
     "data": {
      "text/plain": [
       "[('a', 'x'), ('c', 'x'), ('?', '0')]"
      ]
     },
     "execution_count": 6,
     "metadata": {},
     "output_type": "execute_result"
    }
   ],
   "source": [
    "min_specializations(h=('?','x',),domains=[['a','b','c'],['x','y']],x=('b','x'))"
   ]
  },
  {
   "cell_type": "code",
   "execution_count": 7,
   "metadata": {},
   "outputs": [
    {
     "data": {
      "text/plain": [
       "[('sunny', 'warm', 'normal', 'strong', 'warm', 'same', 'Y'),\n",
       " ('sunny', 'warm', 'high', 'strong', 'warm', 'same', 'Y'),\n",
       " ('rainy', 'cold', 'high', 'strong', 'warm', 'change', 'N'),\n",
       " ('sunny', 'warm', 'high', 'strong', 'cool', 'change', 'Y')]"
      ]
     },
     "execution_count": 7,
     "metadata": {},
     "output_type": "execute_result"
    }
   ],
   "source": [
    "with open('train2.csv') as csvFile:\n",
    "    examples = [tuple(line) for line in csv.reader(csvFile)]\n",
    "\n",
    "examples"
   ]
  },
  {
   "cell_type": "code",
   "execution_count": 8,
   "metadata": {},
   "outputs": [],
   "source": [
    "l = [x for x in range(4)]"
   ]
  },
  {
   "cell_type": "code",
   "execution_count": 9,
   "metadata": {},
   "outputs": [
    {
     "name": "stdout",
     "output_type": "stream",
     "text": [
      "[set(), set(), set(), set(), set(), set(), set()]\n",
      "[{'sunny'}, {'warm'}, {'normal'}, {'strong'}, {'warm'}, {'same'}, {'Y'}]\n",
      "[{'sunny'}, {'warm'}, {'normal', 'high'}, {'strong'}, {'warm'}, {'same'}, {'Y'}]\n",
      "[{'rainy', 'sunny'}, {'warm', 'cold'}, {'normal', 'high'}, {'strong'}, {'warm'}, {'same', 'change'}, {'N', 'Y'}]\n",
      "[{'rainy', 'sunny'}, {'warm', 'cold'}, {'normal', 'high'}, {'strong'}, {'warm', 'cool'}, {'same', 'change'}, {'N', 'Y'}]\n"
     ]
    },
    {
     "data": {
      "text/plain": [
       "[['rainy', 'sunny'],\n",
       " ['cold', 'warm'],\n",
       " ['high', 'normal'],\n",
       " ['strong'],\n",
       " ['cool', 'warm'],\n",
       " ['change', 'same'],\n",
       " ['N', 'Y']]"
      ]
     },
     "execution_count": 9,
     "metadata": {},
     "output_type": "execute_result"
    }
   ],
   "source": [
    "def get_domains(examples):\n",
    "    d = [set() for i in examples[0]]\n",
    "    print(d)\n",
    "    for x in examples:\n",
    "        for i, xi in enumerate(x):\n",
    "            d[i].add(xi)\n",
    "        print(d)\n",
    "    return [list(sorted(x)) for x in d]\n",
    "get_domains(examples)"
   ]
  },
  {
   "cell_type": "code",
   "execution_count": 10,
   "metadata": {},
   "outputs": [],
   "source": [
    "def specialize_G(x,domains,G,S):\n",
    "    G_prev = list(G)\n",
    "    for g in G_prev:\n",
    "        if g not in G:\n",
    "            continue\n",
    "        if fulfills(x,g):\n",
    "            G.remove(g)\n",
    "            Gminus = min_specializations(g,domains,x)\n",
    "            G.update([h for h in Gminus if any([more_general(h,s) for s in S])])\n",
    "            G.difference_update([h for h in G if any([more_general(g1,h) for g1 in G if h != g1])])\n",
    "    return G"
   ]
  },
  {
   "cell_type": "code",
   "execution_count": 11,
   "metadata": {},
   "outputs": [],
   "source": [
    "def generalize_S(x,G,S):\n",
    "    S_prev = list(S)\n",
    "    for s in S_prev:\n",
    "        if s not in S:\n",
    "            continue\n",
    "        if not fulfills(x,s):\n",
    "            S.remove(s)\n",
    "            Splus = min_generalizations(s,x)\n",
    "            S.update([h for h in Splus if any([more_general(g,h) for g in G])])\n",
    "            S.difference_update([h for h in S if any([more_general(h,h1) for h1 in S if h != h1])])\n",
    "    return S"
   ]
  },
  {
   "cell_type": "code",
   "execution_count": 12,
   "metadata": {},
   "outputs": [],
   "source": [
    "def candidate_elimination(examples):\n",
    "    domains = get_domains(examples)[:-1]\n",
    "    \n",
    "    G = set([(\"?\",)*len(domains)])\n",
    "    S = set([(\"0\",)*len(domains)])\n",
    "    i=0\n",
    "    print(\"\\n G[{0}]:\".format(i),G)\n",
    "    print(\"\\n S[{0}]:\".format(i),S)\n",
    "    for xcx in examples:\n",
    "        i=i+1\n",
    "        x, cx = xcx[:-1], xcx[-1]\n",
    "        if cx == \"Y\":\n",
    "            G = {g for g in G if fulfills(x,g)}\n",
    "            S = generalize_S(x,G,S)\n",
    "        else:\n",
    "            S = {s for s in S if not fulfills(x,s)}\n",
    "            G = specialize_G(x,domains,G,S)\n",
    "        print(\"\\n G[{0}]:\".format(i),G)\n",
    "        print(\"\\n S[{0}]:\".format(i),S)\n",
    "    return S,G"
   ]
  },
  {
   "cell_type": "code",
   "execution_count": 13,
   "metadata": {},
   "outputs": [],
   "source": [
    "def enumerateHypothesesBetween_s_g(s,g):\n",
    "    hypotheses = []\n",
    "    \n",
    "    for i, constraint in enumerate(g):\n",
    "        if constraint != s[i]:\n",
    "            hypothesis = g[:]\n",
    "            hypothesis[i]=s[i]\n",
    "            hypotheses.append(hypothesis)\n",
    "    return hypotheses\n",
    "        "
   ]
  },
  {
   "cell_type": "code",
   "execution_count": 14,
   "metadata": {},
   "outputs": [],
   "source": [
    "def enumerateVersionSpace(S,G):\n",
    "    hypotheses = []\n",
    "    hypotheses += S\n",
    "    hypotheses += G\n",
    "    print(\"Initial Hypothesis \",hypotheses)\n",
    "    s = hypotheses[0]\n",
    "    for i in range(1,len(hypotheses)):\n",
    "        inBetweenHypotheses = enumerateHypothesesBetween_s_g(list(s),list(hypothese[i]))\n",
    "        hypotheses.extend(inBetweenHypotheses)\n",
    "    print(\"Hypothesis with duplicates \",hypotheses)\n",
    "    \n",
    "    setH = set()\n",
    "    for h in hypotheses:\n",
    "        setH.add(tuple(h))\n",
    "        \n",
    "    ans=[list(x) for x in setH]\n",
    "    print(\"Version Space: \",ans)\n",
    "    "
   ]
  },
  {
   "cell_type": "code",
   "execution_count": 15,
   "metadata": {},
   "outputs": [
    {
     "name": "stdout",
     "output_type": "stream",
     "text": [
      "[set(), set(), set(), set(), set(), set(), set()]\n",
      "[{'sunny'}, {'warm'}, {'normal'}, {'strong'}, {'warm'}, {'same'}, {'Y'}]\n",
      "[{'sunny'}, {'warm'}, {'normal', 'high'}, {'strong'}, {'warm'}, {'same'}, {'Y'}]\n",
      "[{'rainy', 'sunny'}, {'warm', 'cold'}, {'normal', 'high'}, {'strong'}, {'warm'}, {'same', 'change'}, {'N', 'Y'}]\n",
      "[{'rainy', 'sunny'}, {'warm', 'cold'}, {'normal', 'high'}, {'strong'}, {'warm', 'cool'}, {'same', 'change'}, {'N', 'Y'}]\n",
      "\n",
      " G[0]: {('?', '?', '?', '?', '?', '?')}\n",
      "\n",
      " S[0]: {('0', '0', '0', '0', '0', '0')}\n",
      "\n",
      " G[1]: {('?', '?', '?', '?', '?', '?')}\n",
      "\n",
      " S[1]: {('sunny', 'warm', 'normal', 'strong', 'warm', 'same')}\n",
      "\n",
      " G[2]: {('?', '?', '?', '?', '?', '?')}\n",
      "\n",
      " S[2]: {('sunny', 'warm', '?', 'strong', 'warm', 'same')}\n",
      "\n",
      " G[3]: {('?', '?', '?', '?', '?', 'same'), ('sunny', '?', '?', '?', '?', '?'), ('?', 'warm', '?', '?', '?', '?')}\n",
      "\n",
      " S[3]: {('sunny', 'warm', '?', 'strong', 'warm', 'same')}\n",
      "\n",
      " G[4]: {('sunny', '?', '?', '?', '?', '?'), ('?', 'warm', '?', '?', '?', '?')}\n",
      "\n",
      " S[4]: {('sunny', 'warm', '?', 'strong', '?', '?')}\n"
     ]
    }
   ],
   "source": [
    "S,G=candidate_elimination(examples)"
   ]
  },
  {
   "cell_type": "code",
   "execution_count": 16,
   "metadata": {},
   "outputs": [
    {
     "data": {
      "text/plain": [
       "[('sunny', 'warm', 'normal', 'strong', 'warm', 'same', 'Y'),\n",
       " ('sunny', 'warm', 'high', 'strong', 'warm', 'same', 'Y'),\n",
       " ('rainy', 'cold', 'high', 'strong', 'warm', 'change', 'N'),\n",
       " ('sunny', 'warm', 'high', 'strong', 'cool', 'change', 'Y')]"
      ]
     },
     "execution_count": 16,
     "metadata": {},
     "output_type": "execute_result"
    }
   ],
   "source": [
    "examples"
   ]
  },
  {
   "cell_type": "code",
   "execution_count": 17,
   "metadata": {},
   "outputs": [
    {
     "data": {
      "text/plain": [
       "{('sunny', 'warm', '?', 'strong', '?', '?')}"
      ]
     },
     "execution_count": 17,
     "metadata": {},
     "output_type": "execute_result"
    }
   ],
   "source": [
    "S"
   ]
  },
  {
   "cell_type": "code",
   "execution_count": 18,
   "metadata": {},
   "outputs": [
    {
     "data": {
      "text/plain": [
       "{('?', 'warm', '?', '?', '?', '?'), ('sunny', '?', '?', '?', '?', '?')}"
      ]
     },
     "execution_count": 18,
     "metadata": {},
     "output_type": "execute_result"
    }
   ],
   "source": [
    "G"
   ]
  },
  {
   "cell_type": "code",
   "execution_count": null,
   "metadata": {},
   "outputs": [],
   "source": []
  },
  {
   "cell_type": "code",
   "execution_count": null,
   "metadata": {},
   "outputs": [],
   "source": []
  }
 ],
 "metadata": {
  "kernelspec": {
   "display_name": "Python 3",
   "language": "python",
   "name": "python3"
  },
  "language_info": {
   "codemirror_mode": {
    "name": "ipython",
    "version": 3
   },
   "file_extension": ".py",
   "mimetype": "text/x-python",
   "name": "python",
   "nbconvert_exporter": "python",
   "pygments_lexer": "ipython3",
   "version": "3.6.5"
  }
 },
 "nbformat": 4,
 "nbformat_minor": 2
}
